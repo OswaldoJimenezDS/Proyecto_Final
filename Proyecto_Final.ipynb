{
 "cells": [
  {
   "cell_type": "markdown",
   "id": "ec94fa8d-8cdc-4108-93fb-ada5c5a04968",
   "metadata": {},
   "source": [
    "### Pipeline"
   ]
  },
  {
   "cell_type": "code",
   "execution_count": 1,
   "id": "0acd3696-d280-49c2-bbd9-492bd7ea997e",
   "metadata": {
    "editable": true,
    "slideshow": {
     "slide_type": ""
    },
    "tags": []
   },
   "outputs": [],
   "source": [
    "import boto3\n",
    "import pandas as pd\n",
    "import numpy as np\n",
    "import psycopg2\n",
    "import mysql.connector as mysql\n",
    "import seaborn as sns\n",
    "import matplotlib.pyplot as plt\n",
    "from sqlalchemy import create_engine\n",
    "import configparser"
   ]
  },
  {
   "cell_type": "code",
   "execution_count": 2,
   "id": "64b7286a-fc77-4708-93c8-d4d87e0bedb8",
   "metadata": {
    "editable": true,
    "slideshow": {
     "slide_type": ""
    },
    "tags": []
   },
   "outputs": [
    {
     "data": {
      "text/plain": [
       "['config.cfg']"
      ]
     },
     "execution_count": 2,
     "metadata": {},
     "output_type": "execute_result"
    }
   ],
   "source": [
    "config = configparser.ConfigParser()\n",
    "config.read('config.cfg')"
   ]
  },
  {
   "cell_type": "code",
   "execution_count": 3,
   "id": "12285b02-976a-46a3-9745-6f06f4ffcc7f",
   "metadata": {
    "editable": true,
    "slideshow": {
     "slide_type": ""
    },
    "tags": []
   },
   "outputs": [],
   "source": [
    "aws_rds_conn = boto3.client('rds', aws_access_key_id=config.get('IAM','ACCESS_KEY'), \n",
    "                              aws_secret_access_key=config.get('IAM', 'SECRET_ACCESS_KEY'), \n",
    "                              region_name='us-east-1')"
   ]
  },
  {
   "cell_type": "code",
   "execution_count": 4,
   "id": "6db2bfa9-8857-4ebb-becb-30d7540cf416",
   "metadata": {
    "editable": true,
    "slideshow": {
     "slide_type": ""
    },
    "tags": []
   },
   "outputs": [
    {
     "name": "stdout",
     "output_type": "stream",
     "text": [
      "Instancias Disponibles\" ['banco-transactional', 'ventas-dwh', 'ventas-transactional']\n"
     ]
    }
   ],
   "source": [
    "rds_instances_ids = []\n",
    "\n",
    "aws_response = aws_rds_conn.describe_db_instances()\n",
    "\n",
    "for response in aws_response['DBInstances']:\n",
    "    rds_instances_ids.append(response['DBInstanceIdentifier'])\n",
    "\n",
    "print(f'Instancias Disponibles\" {rds_instances_ids}')"
   ]
  },
  {
   "cell_type": "code",
   "execution_count": 7,
   "id": "fc2b2b2d-6453-41d3-9008-7c5fcc404157",
   "metadata": {},
   "outputs": [
    {
     "name": "stdout",
     "output_type": "stream",
     "text": [
      "{'DBInstance': {'DBInstanceIdentifier': 'ventas-transactional', 'DBInstanceClass': 'db.t3.micro', 'Engine': 'mysql', 'DBInstanceStatus': 'creating', 'MasterUsername': 'mysql_admin', 'DBName': 'puntoventa', 'AllocatedStorage': 15, 'PreferredBackupWindow': '06:08-06:38', 'BackupRetentionPeriod': 1, 'DBSecurityGroups': [], 'VpcSecurityGroups': [{'VpcSecurityGroupId': 'sg-011f0a6c313f819e9', 'Status': 'active'}], 'DBParameterGroups': [{'DBParameterGroupName': 'default.mysql8.0', 'ParameterApplyStatus': 'in-sync'}], 'DBSubnetGroup': {'DBSubnetGroupName': 'default', 'DBSubnetGroupDescription': 'default', 'VpcId': 'vpc-09e5ac0049f317462', 'SubnetGroupStatus': 'Complete', 'Subnets': [{'SubnetIdentifier': 'subnet-002e032543a6bab3c', 'SubnetAvailabilityZone': {'Name': 'us-east-1f'}, 'SubnetOutpost': {}, 'SubnetStatus': 'Active'}, {'SubnetIdentifier': 'subnet-075dee9f0bf4b8e81', 'SubnetAvailabilityZone': {'Name': 'us-east-1b'}, 'SubnetOutpost': {}, 'SubnetStatus': 'Active'}, {'SubnetIdentifier': 'subnet-08095b27b3be8cf9b', 'SubnetAvailabilityZone': {'Name': 'us-east-1a'}, 'SubnetOutpost': {}, 'SubnetStatus': 'Active'}, {'SubnetIdentifier': 'subnet-080aaf9d73b591a82', 'SubnetAvailabilityZone': {'Name': 'us-east-1d'}, 'SubnetOutpost': {}, 'SubnetStatus': 'Active'}, {'SubnetIdentifier': 'subnet-079d7f4acefa1ff27', 'SubnetAvailabilityZone': {'Name': 'us-east-1e'}, 'SubnetOutpost': {}, 'SubnetStatus': 'Active'}, {'SubnetIdentifier': 'subnet-089ca8b028182bb4f', 'SubnetAvailabilityZone': {'Name': 'us-east-1c'}, 'SubnetOutpost': {}, 'SubnetStatus': 'Active'}]}, 'PreferredMaintenanceWindow': 'thu:07:53-thu:08:23', 'PendingModifiedValues': {'MasterUserPassword': '****'}, 'MultiAZ': False, 'EngineVersion': '8.0.35', 'AutoMinorVersionUpgrade': True, 'ReadReplicaDBInstanceIdentifiers': [], 'LicenseModel': 'general-public-license', 'OptionGroupMemberships': [{'OptionGroupName': 'default:mysql-8-0', 'Status': 'in-sync'}], 'PubliclyAccessible': True, 'StorageType': 'gp2', 'DbInstancePort': 0, 'StorageEncrypted': False, 'DbiResourceId': 'db-KPFTAYVD557P66OWK5ZKVX6ZXA', 'CACertificateIdentifier': 'rds-ca-rsa2048-g1', 'DomainMemberships': [], 'CopyTagsToSnapshot': False, 'MonitoringInterval': 0, 'DBInstanceArn': 'arn:aws:rds:us-east-1:058264097493:db:ventas-transactional', 'IAMDatabaseAuthenticationEnabled': False, 'PerformanceInsightsEnabled': False, 'DeletionProtection': False, 'AssociatedRoles': [], 'TagList': [], 'CustomerOwnedIpEnabled': False, 'BackupTarget': 'region', 'NetworkType': 'IPV4', 'StorageThroughput': 0, 'CertificateDetails': {'CAIdentifier': 'rds-ca-rsa2048-g1'}, 'DedicatedLogVolume': False}, 'ResponseMetadata': {'RequestId': 'df697f77-72a2-4873-b439-b85c6fe4405f', 'HTTPStatusCode': 200, 'HTTPHeaders': {'x-amzn-requestid': 'df697f77-72a2-4873-b439-b85c6fe4405f', 'strict-transport-security': 'max-age=31536000', 'content-type': 'text/xml', 'content-length': '4068', 'date': 'Wed, 27 Mar 2024 18:32:27 GMT'}, 'RetryAttempts': 0}}\n"
     ]
    }
   ],
   "source": [
    "try:\n",
    "    response = aws_rds_conn.create_db_instance(\n",
    "                DBInstanceIdentifier=config.get('TRANSACC','DB_INSTANCE_ID'),\n",
    "                DBName=config.get('TRANSACC', 'DB_NAME'),\n",
    "                DBInstanceClass='db.t3.micro',\n",
    "                Engine='mysql',\n",
    "                MasterUsername=config.get('TRANSACC', 'DB_USER'),\n",
    "                MasterUserPassword=config.get('TRANSACC', 'DB_PASSWORD'),\n",
    "                Port=int(config.get('TRANSACC', 'DB_PORT')),\n",
    "                PubliclyAccessible=True,\n",
    "                VpcSecurityGroupIds=[config.get('VPC', 'SECURITY_GROUP')],\n",
    "                AllocatedStorage=15\n",
    "               )\n",
    "    print(response)\n",
    "except aws_rds_conn.exceptions.DBInstanceAlreadyExistsFault as ex:\n",
    "    print('La instancia ya existe')\n",
    "except Exception as ex:\n",
    "    print('Error!! ', ex)\n",
    "    "
   ]
  },
  {
   "cell_type": "code",
   "execution_count": 6,
   "id": "d06cb0df-261d-43f8-b269-0258a8c71412",
   "metadata": {
    "editable": true,
    "slideshow": {
     "slide_type": ""
    },
    "tags": []
   },
   "outputs": [
    {
     "name": "stdout",
     "output_type": "stream",
     "text": [
      "ventas-transactional.crkusmo6c5dz.us-east-1.rds.amazonaws.com\n"
     ]
    }
   ],
   "source": [
    "try:\n",
    "    instance=aws_rds_conn.describe_db_instances(DBInstanceIdentifier=config.get('TRANSACC','DB_INSTANCE_ID'))\n",
    "    RDS_HOSTNAME= instance.get('DBInstances')[0].get('Endpoint').get('Address')\n",
    "    print(RDS_HOSTNAME)\n",
    "except Exception as ex:\n",
    "    print('Error!!!', ex)"
   ]
  },
  {
   "attachments": {
    "5e218c7b-e661-4ae5-8b4a-fa53294f6493.png": {
     "image/png": "[encoded data removed]"
    }
   },
   "cell_type": "markdown",
   "id": "1a985e7f-c3c2-4317-ba3b-d0a417ea89cb",
   "metadata": {},
   "source": [
    "![TRANSACC_Diagram.png](attachment:5e218c7b-e661-4ae5-8b4a-fa53294f6493.png)"
   ]
  },
  {
   "cell_type": "code",
   "execution_count": 24,
   "id": "e374c685-c00a-4412-9cdf-fab2e876f494",
   "metadata": {},
   "outputs": [
    {
     "data": {
      "text/plain": [
       "'\\nCREATE TABLE IF NOT EXISTS categoria (\\n  idcategoria INT NOT NULL,\\n  nombre VARCHAR(50) NULL,\\n  descripcion VARCHAR(255) NULL,\\n  estado BIT NULL,\\n  PRIMARY KEY (idcategoria)\\n  );\\n\\n\\nCREATE TABLE IF NOT EXISTS articulo (\\n  idarticulo INT NOT NULL,\\n  idcategoria INT NOT NULL,\\n  codigo VARCHAR(50) NULL,\\n  nombre VARCHAR(100) NULL,\\n  precio_venta DECIMAL(11,2) NULL,\\n  stock INT NULL,\\n  descripcion VARCHAR(255) NULL,\\n  imagen VARCHAR(20) NULL,\\n  estado BIT NULL,\\n  PRIMARY KEY (idarticulo),\\n  INDEX fk_articulo_categoria_idx (idcategoria) ,\\n  \\n  CONSTRAINT fk_articulo_categoria\\n    FOREIGN KEY (idcategoria)\\n    REFERENCES categoria (idcategoria)\\n    );\\n\\n\\nCREATE TABLE IF NOT EXISTS rol (\\n  idrol INT NOT NULL,\\n  nombre VARCHAR(30) NULL,\\n  descripcion VARCHAR(255) NULL,\\n  estado BIT NULL,\\n  PRIMARY KEY (idrol)\\n  );\\n\\n\\nCREATE TABLE IF NOT EXISTS usuario (\\n  idusuario INT NOT NULL,\\n  idrol INT NOT NULL,\\n  nombre VARCHAR(100) NULL,\\n  tipo_documento VARCHAR(20) NULL,\\n  num_documento VARCHAR(20) NULL,\\n  direccion VARCHAR(70) NULL,\\n  telefono VARCHAR(20) NULL,\\n  email VARCHAR(50) NULL,\\n  clave VARBINARY(200) NULL,\\n  estado BIT NULL,\\n  PRIMARY KEY (idusuario),\\n  INDEX fk_usuario_rol1_idx (idrol) ,\\n  CONSTRAINT fk_usuario_rol1\\n    FOREIGN KEY (idrol)\\n    REFERENCES rol (idrol)\\n    );\\n\\n\\nCREATE TABLE IF NOT EXISTS persona (\\n  idpersona INT NOT NULL,\\n  tipo_persona VARCHAR(20) NULL,\\n  nombre VARCHAR(100) NULL,\\n  tipo_documento VARCHAR(20) NULL,\\n  num_documento VARCHAR(20) NULL,\\n  direccion VARCHAR(70) NULL,\\n  telefono VARCHAR(20) NULL,\\n  email VARCHAR(50) NULL,\\n  PRIMARY KEY (idpersona)\\n  );\\n\\n\\n\\nCREATE TABLE IF NOT EXISTS ingreso (\\n  idingreso INT NOT NULL,\\n  idproveedor INT NOT NULL,\\n  idusuario INT NOT NULL,\\n  tipo_comprobante VARCHAR(20) NULL,\\n  serie_comprobante VARCHAR(7) NULL,\\n  num_comprobante VARCHAR(10) NULL,\\n  fecha DATETIME NULL,\\n  impuesto DECIMAL(4,2) NULL,\\n  total DECIMAL(11,2) NULL,\\n  estado VARCHAR(20) NULL,\\n  PRIMARY KEY (idingreso),\\n  INDEX fk_ingreso_usuario1_idx (idusuario) ,\\n  INDEX fk_ingreso_persona1_idx (idproveedor) ,\\n  CONSTRAINT fk_ingreso_usuario1\\n    FOREIGN KEY (idusuario)\\n    REFERENCES usuario (idusuario),\\n  CONSTRAINT fk_ingreso_persona1\\n    FOREIGN KEY (idproveedor)\\n    REFERENCES persona (idpersona)\\n    );\\n\\n\\nCREATE TABLE IF NOT EXISTS detalle_ingreso (\\n  iddetalle_ingreso INT NOT NULL,\\n  idingreso INT NULL,\\n  idarticulo INT NULL,\\n  cantidad INT NULL,\\n  precio DECIMAL(11,2) NULL,\\n  PRIMARY KEY (iddetalle_ingreso),\\n  INDEX fk_detalle_ingreso_articulo1_idx (idarticulo) ,\\n  INDEX fk_detalle_ingreso_ingreso1_idx (idingreso) ,\\n  CONSTRAINT fk_detalle_ingreso_articulo1\\n    FOREIGN KEY (idarticulo)\\n    REFERENCES articulo (idarticulo),\\n  CONSTRAINT fk_detalle_ingreso_ingreso1\\n    FOREIGN KEY (idingreso)\\n    REFERENCES ingreso (idingreso)\\n    );\\n\\n\\nCREATE TABLE IF NOT EXISTS venta (\\n  idventa INT NOT NULL,\\n  idcliente INT NOT NULL,\\n  idusuario INT NOT NULL,\\n  tipo_comprobante VARCHAR(20) NULL,\\n  serie_comprobante VARCHAR(7) NULL,\\n  num_comprobante VARCHAR(10) NULL,\\n  fecha DATETIME NULL,\\n  impuesto DECIMAL(4,2) NULL,\\n  total DECIMAL(11,2) NULL,\\n  estado VARCHAR(20) NULL,\\n  PRIMARY KEY (idventa),\\n  INDEX fk_venta_usuario1_idx (idusuario) ,\\n  INDEX fk_venta_persona1_idx (idcliente) ,\\n  CONSTRAINT fk_venta_usuario1\\n    FOREIGN KEY (idusuario)\\n    REFERENCES usuario (idusuario),\\n  CONSTRAINT fk_venta_persona1\\n    FOREIGN KEY (idcliente)\\n    REFERENCES persona (idpersona)\\n    );\\n\\n\\nCREATE TABLE IF NOT EXISTS detalle_venta (\\n  iddetalle_venta INT NOT NULL,\\n  idventa INT NOT NULL,\\n  idarticulo INT NOT NULL,\\n  cantidad INT NULL,\\n  precio DECIMAL(11,2) NULL,\\n  descuento DECIMAL(11,2) NULL,\\n  PRIMARY KEY (iddetalle_venta),\\n  INDEX fk_detalle_venta_articulo1_idx (idarticulo),\\n  INDEX fk_detalle_venta_venta1_idx (idventa) ,\\n  CONSTRAINT fk_detalle_venta_articulo1\\n    FOREIGN KEY (idarticulo)\\n    REFERENCES articulo(idarticulo),\\n  CONSTRAINT fk_detalle_venta_venta1\\n    FOREIGN KEY (idventa)\\n    REFERENCES venta (idventa)\\n    );\\n'"
      ]
     },
     "execution_count": 24,
     "metadata": {},
     "output_type": "execute_result"
    }
   ],
   "source": [
    "import Querys\n",
    "Querys.DDL_QUERY"
   ]
  },
  {
   "cell_type": "code",
   "execution_count": 25,
   "id": "b108be83-cff7-42b9-83ff-7faaaf025d0d",
   "metadata": {},
   "outputs": [
    {
     "name": "stdout",
     "output_type": "stream",
     "text": [
      "Base de datos creada exitosamente\n"
     ]
    }
   ],
   "source": [
    "try:\n",
    "    db_my_conn = mysql.connect(\n",
    "                    user=config.get('TRANSACC', 'DB_USER'),\n",
    "                    password=config.get('TRANSACC', 'DB_PASSWORD'),\n",
    "                    database=config.get('TRANSACC', 'DB_NAME'),\n",
    "                    host=RDS_HOSTNAME,\n",
    "                    port=config.get('TRANSACC', 'DB_PORT')\n",
    "                )\n",
    "    cursor = db_my_conn.cursor()\n",
    "    cursor.execute(Querys.DDL_QUERY)\n",
    "    print(\"Base de datos creada exitosamente\")\n",
    "except Exception as ex:\n",
    "    print('Error!!!', ex)"
   ]
  },
  {
   "cell_type": "code",
   "execution_count": 26,
   "id": "af0a1de0-d316-4f0a-bcc5-7443cd547314",
   "metadata": {},
   "outputs": [],
   "source": [
    "def insertData2SQL(data_dict, table_name, driver):\n",
    "    \n",
    "    df_data=pd.DataFrame.from_records(data_dict)\n",
    "    \n",
    "    try:\n",
    "        response = df_data.to_sql(table_name, driver, index=False, if_exists='append')\n",
    "        print(f\"Se ha insertado {response} nuevos registros\")\n",
    "    except Exception as ex:\n",
    "        print(ex)"
   ]
  },
  {
   "cell_type": "code",
   "execution_count": 33,
   "id": "adb6f401-88ab-4752-a75d-f5e49e9fe7cb",
   "metadata": {},
   "outputs": [],
   "source": [
    "driver = f\"\"\"mysql://{config.get('TRANSACC', 'DB_USER')}:{config.get('TRANSACC', 'DB_PASSWORD')}@{RDS_HOSTNAME}:{config.get('TRANSACC', 'DB_PORT')}/{config.get('TRANSACC', 'DB_NAME')}\"\"\""
   ]
  },
  {
   "cell_type": "code",
   "execution_count": 35,
   "id": "ed002426-c8a3-43be-a6a5-fd61d3ae0246",
   "metadata": {},
   "outputs": [
    {
     "name": "stdout",
     "output_type": "stream",
     "text": [
      "Se ha insertado 5 nuevos registros\n"
     ]
    }
   ],
   "source": [
    "data_categoria = [\n",
    "     {'idcategoria': 1, 'nombre': 'Frutas y Verduras', 'descripcion':'Productos frescos', 'estado': '1'}, \n",
    "     {'idcategoria': 2, 'nombre': 'Lácteos', 'descripcion':'Productos lácteos y derivados', 'estado': '1'},\n",
    "     {'idcategoria': 3, 'nombre': 'Carnes', 'descripcion':'Carnes frescas y procesadas', 'estado': '1'},\n",
    "     {'idcategoria': 4, 'nombre': 'Panadería', 'descripcion':'Productos de panadería y repostería', 'estado': '1'},\n",
    "     {'idcategoria': 5, 'nombre': 'Congelados', 'descripcion':'Productos congelados', 'estado': '1'}\n",
    "]\n",
    "\n",
    "#insertamos data en tabla categoria \n",
    "insertData2SQL(data_categoria, 'categoria', driver)"
   ]
  },
  {
   "cell_type": "code",
   "execution_count": 36,
   "id": "9994b462-d331-4da9-ad2c-7363f200e639",
   "metadata": {},
   "outputs": [
    {
     "name": "stdout",
     "output_type": "stream",
     "text": [
      "Se ha insertado 20 nuevos registros\n"
     ]
    }
   ],
   "source": [
    "data_articulo = [\n",
    "     {'idarticulo': 1, 'idcategoria': 1, 'codigo':'FRU001', 'nombre': 'Manzanas', 'precio_venta':2.5, 'stock':100, 'descripcion':'Manzanas frescas', 'imagen':'manzanas.jpg', 'estado':1}, \n",
    "     {'idarticulo': 2, 'idcategoria': 1, 'codigo':'FRU002', 'nombre': 'Plátanos', 'precio_venta':1.75, 'stock':80, 'descripcion':'Plátanos tropicales', 'imagen':'platanos.jpg', 'estado':1},\n",
    "     {'idarticulo': 3, 'idcategoria': 1, 'codigo':'FRU003', 'nombre': 'Naranjas', 'precio_venta':3.00, 'stock':120, 'descripcion':'Naranjas jugosas', 'imagen':'naranjas.jpg', 'estado':1},\n",
    "     {'idarticulo': 4, 'idcategoria': 2, 'codigo':'LAC001', 'nombre': 'Leche Entera', 'precio_venta':1.99, 'stock':50, 'descripcion':'Leche fresca entera', 'imagen':'leche_entera.jpg', 'estado':1},\n",
    "     {'idarticulo': 5, 'idcategoria': 2, 'codigo':'LAC002', 'nombre': 'Yogur Natural', 'precio_venta':0.99, 'stock':40, 'descripcion':'Yogur natural sin azúcar', 'imagen':'yogur_natural.jpg', 'estado':1},\n",
    "     {'idarticulo': 6, 'idcategoria': 2, 'codigo':'LAC003', 'nombre': 'Queso Cheddar', 'precio_venta':3.49, 'stock':30, 'descripcion':'Queso cheddar madurado', 'imagen':'queso_cheddar.jpg', 'estado':1},\n",
    "     {'idarticulo': 7, 'idcategoria': 3, 'codigo':'CAR001', 'nombre': 'Filete de Ternera', 'precio_venta':9.99, 'stock':20, 'descripcion':'Filete de ternera de primera calidad', 'imagen':'filete_ternera.jpg', 'estado':1},\n",
    "     {'idarticulo': 8, 'idcategoria': 3, 'codigo':'CAR002', 'nombre': 'Pollo Entero', 'precio_venta':6.50, 'stock':35, 'descripcion':'Pollo entero fresco', 'imagen':'pollo_entero.jpg', 'estado':1},\n",
    "     {'idarticulo': 9, 'idcategoria': 3, 'codigo':'CAR003', 'nombre': 'Salchichas', 'precio_venta':4.25, 'stock':50, 'descripcion':'Salchichas de cerdo', 'imagen':'salchichas.jpg', 'estado':1},\n",
    "     {'idarticulo': 10, 'idcategoria': 4, 'codigo':'PAN001', 'nombre': 'Pan Integral', 'precio_venta':2.25, 'stock':60, 'descripcion':'Pan integral recién horneado', 'imagen':'pan_integral.jpg', 'estado':1},\n",
    "     {'idarticulo': 11, 'idcategoria': 4, 'codigo':'PAN002', 'nombre': 'Croissants', 'precio_venta':1.5, 'stock':40, 'descripcion':'Croissants crujientes', 'imagen':'croissants.jpg', 'estado':1},\n",
    "     {'idarticulo': 12, 'idcategoria': 4, 'codigo':'PAN003', 'nombre': 'Donas', 'precio_venta':0.99, 'stock':80, 'descripcion':'Donas glaseadas', 'imagen':'donas.jpg', 'estado':1},\n",
    "     {'idarticulo': 13, 'idcategoria': 5, 'codigo':'CON001', 'nombre': 'Pizza Congelada', 'precio_venta':5.99, 'stock':25, 'descripcion':'Pizza de pepperoni congelada', 'imagen':'pizza_congelada.jpg', 'estado':1},\n",
    "     {'idarticulo': 14, 'idcategoria': 5, 'codigo':'CON002', 'nombre': 'Vegetales Mixtos', 'precio_venta':3.49, 'stock':30, 'descripcion':'Mezcla de vegetales congelados', 'imagen':'vegetales_mixtos.jpg', 'estado':1},\n",
    "     {'idarticulo': 15, 'idcategoria': 5, 'codigo':'CON003', 'nombre': 'Helado de Vainilla', 'precio_venta':4.75, 'stock':15, 'descripcion':'Helado de vainilla cremoso', 'imagen':'helado_vainilla.jpg', 'estado':1},\n",
    "     {'idarticulo': 16, 'idcategoria': 1, 'codigo':'FRU004', 'nombre': 'Uvas', 'precio_venta':3.99, 'stock':45, 'descripcion':'Uvas rojas frescas', 'imagen':'uvas.jpg', 'estado':1},\n",
    "     {'idarticulo': 17, 'idcategoria': 2, 'codigo':'LAC004', 'nombre': 'Mantequilla', 'precio_venta':2.25, 'stock':55, 'descripcion':'Mantequilla de alta calidad', 'imagen':'mantequilla.jpg', 'estado':1},\n",
    "     {'idarticulo': 18, 'idcategoria': 3, 'codigo':'CAR004', 'nombre': 'Jamón Serrano', 'precio_venta':7.99, 'stock':30, 'descripcion':'Jamón serrano de bellota', 'imagen':'jamon_serrano.jpg', 'estado':1},\n",
    "     {'idarticulo': 19, 'idcategoria': 4, 'codigo':'PAN004', 'nombre': 'Baguette', 'precio_venta':1.75, 'stock':30, 'descripcion':'Baguette crujiente', 'imagen':'baguette.jpg', 'estado':1},\n",
    "     {'idarticulo': 20, 'idcategoria': 5, 'codigo':'CON004', 'nombre': 'Papas Fritas', 'precio_venta':1.49, 'stock':40, 'descripcion':'Papas fritas crujientes', 'imagen':'papas_fritas.jpg', 'estado':1},\n",
    "\n",
    "]\n",
    "\n",
    "#insertamos data en tabla articulo \n",
    "insertData2SQL(data_articulo, 'articulo', driver)"
   ]
  },
  {
   "cell_type": "code",
   "execution_count": 37,
   "id": "b4011218-d5bf-4f9d-98a0-835fb6559949",
   "metadata": {},
   "outputs": [
    {
     "name": "stdout",
     "output_type": "stream",
     "text": [
      "Se ha insertado 5 nuevos registros\n"
     ]
    }
   ],
   "source": [
    "data_roles = [\n",
    "    {\"idrol\": 1, \"nombre\": \"Administrador\", \"descripcion\": \"Tiene acceso completo al sistema\", \"estado\": 1},\n",
    "    {\"idrol\": 2, \"nombre\": \"Cajero\", \"descripcion\": \"Encargado de las transacciones de pago\", \"estado\": 1},\n",
    "    {\"idrol\": 3, \"nombre\": \"Reponedor\", \"descripcion\": \"Responsable del abastecimiento de productos\", \"estado\": 1},\n",
    "    {\"idrol\": 4, \"nombre\": \"Gerente de Tienda\", \"descripcion\": \"Supervisa las operaciones de la tienda\", \"estado\": 1},\n",
    "    {\"idrol\": 5, \"nombre\": \"Cliente\", \"descripcion\": \"Usuario estándar con acceso limitado\", \"estado\": 1}\n",
    "]\n",
    "\n",
    "#insertamos data en tabla rol\n",
    "insertData2SQL(data_roles, 'rol', driver)"
   ]
  },
  {
   "cell_type": "code",
   "execution_count": 38,
   "id": "191b0e79-7706-4e1a-880c-af3187190441",
   "metadata": {},
   "outputs": [
    {
     "name": "stdout",
     "output_type": "stream",
     "text": [
      "Se ha insertado 5 nuevos registros\n"
     ]
    }
   ],
   "source": [
    "data_usuarios = [\n",
    "    {\"idusuario\": 1, \"idrol\": 1, \"nombre\": \"Admin User\", \"tipo_documento\": \"DNI\", \"num_documento\": \"12345678\", \"direccion\": \"Calle Principal 123\", \"telefono\": \"123456789\", \"email\": \"admin@example.com\", \"clave\": \"HASH_CLAVE_ADMIN\", \"estado\": 1},\n",
    "    {\"idusuario\": 2, \"idrol\": 2, \"nombre\": \"Cajero User\", \"tipo_documento\": \"DNI\", \"num_documento\": \"87654321\", \"direccion\": \"Avenida Secundaria 456\", \"telefono\": \"987654321\", \"email\": \"cajero@example.com\", \"clave\": \"HASH_CLAVE_CAJERO\", \"estado\": 1},\n",
    "    {\"idusuario\": 3, \"idrol\": 3, \"nombre\": \"Reponedor User\", \"tipo_documento\": \"DNI\", \"num_documento\": \"98765432\", \"direccion\": \"Calle Lateral 789\", \"telefono\": \"654321987\", \"email\": \"reponedor@example.com\", \"clave\": \"HASH_CLAVE_REPONEDOR\", \"estado\": 1},\n",
    "    {\"idusuario\": 4, \"idrol\": 4, \"nombre\": \"Gerente User\", \"tipo_documento\": \"DNI\", \"num_documento\": \"56789012\", \"direccion\": \"Avenida Principal 789\", \"telefono\": \"321654987\", \"email\": \"gerente@example.com\", \"clave\": \"HASH_CLAVE_GERENTE\", \"estado\": 1},\n",
    "    {\"idusuario\": 5, \"idrol\": 5, \"nombre\": \"Cliente User\", \"tipo_documento\": \"DNI\", \"num_documento\": \"23456789\", \"direccion\": \"Calle Secundaria 456\", \"telefono\": \"456789123\", \"email\": \"cliente@example.com\", \"clave\": \"HASH_CLAVE_CLIENTE\", \"estado\": 1}\n",
    "]\n",
    "\n",
    "#insertamos data en tabla usuario\n",
    "insertData2SQL(data_usuarios, 'usuario', driver)"
   ]
  },
  {
   "cell_type": "code",
   "execution_count": 39,
   "id": "cee04a8b-95e9-4ec3-be56-3f70b73b1555",
   "metadata": {},
   "outputs": [
    {
     "name": "stdout",
     "output_type": "stream",
     "text": [
      "Se ha insertado 10 nuevos registros\n"
     ]
    }
   ],
   "source": [
    "data_personas = [\n",
    "    {\"idpersona\": 1, \"tipo_persona\": \"Cliente\", \"nombre\": \"Juan Pérez\", \"tipo_documento\": \"DNI\", \"num_documento\": \"12345678\", \"direccion\": \"Calle Principal 123\", \"telefono\": \"123456789\", \"email\": \"juan@example.com\"},\n",
    "    {\"idpersona\": 2, \"tipo_persona\": \"Proveedor\", \"nombre\": \"María Gómez\", \"tipo_documento\": \"RUC\", \"num_documento\": \"87654321\", \"direccion\": \"Avenida Secundaria 456\", \"telefono\": \"987654321\", \"email\": \"maria@example.com\"},\n",
    "    {\"idpersona\": 3, \"tipo_persona\": \"Cliente\", \"nombre\": \"Pedro Rodríguez\", \"tipo_documento\": \"DNI\", \"num_documento\": \"98765432\", \"direccion\": \"Calle Lateral 789\", \"telefono\": \"654321987\", \"email\": \"pedro@example.com\"},\n",
    "    {\"idpersona\": 4, \"tipo_persona\": \"Proveedor\", \"nombre\": \"Ana Martínez\", \"tipo_documento\": \"RUC\", \"num_documento\": \"56789012\", \"direccion\": \"Avenida Principal 789\", \"telefono\": \"321654987\", \"email\": \"ana@example.com\"},\n",
    "    {\"idpersona\": 5, \"tipo_persona\": \"Cliente\", \"nombre\": \"Laura Sánchez\", \"tipo_documento\": \"DNI\", \"num_documento\": \"23456789\", \"direccion\": \"Calle Secundaria 456\", \"telefono\": \"456789123\", \"email\": \"laura@example.com\"},\n",
    "    {\"idpersona\": 6, \"tipo_persona\": \"Cliente\", \"nombre\": \"Carlos López\", \"tipo_documento\": \"DNI\", \"num_documento\": \"34567890\", \"direccion\": \"Avenida Principal 567\", \"telefono\": \"789123456\", \"email\": \"carlos@example.com\"},\n",
    "    {\"idpersona\": 7, \"tipo_persona\": \"Proveedor\", \"nombre\": \"Sofía Hernández\", \"tipo_documento\": \"RUC\", \"num_documento\": \"45678901\", \"direccion\": \"Calle Principal 789\", \"telefono\": \"987654321\", \"email\": \"sofia@example.com\"},\n",
    "    {\"idpersona\": 8, \"tipo_persona\": \"Cliente\", \"nombre\": \"Luis Rodríguez\", \"tipo_documento\": \"DNI\", \"num_documento\": \"56789012\", \"direccion\": \"Avenida Central 890\", \"telefono\": \"321654987\", \"email\": \"luis@example.com\"},\n",
    "    {\"idpersona\": 9, \"tipo_persona\": \"Proveedor\", \"nombre\": \"Elena Martínez\", \"tipo_documento\": \"RUC\", \"num_documento\": \"67890123\", \"direccion\": \"Avenida Norte 123\", \"telefono\": \"654987321\", \"email\": \"elena@example.com\"},\n",
    "    {\"idpersona\": 10, \"tipo_persona\": \"Cliente\", \"nombre\": \"Ana García\", \"tipo_documento\": \"DNI\", \"num_documento\": \"78901234\", \"direccion\": \"Calle Sur 234\", \"telefono\": \"789321654\", \"email\": \"ana@example.com\"}\n",
    "]\n",
    "\n",
    "#insertamos data en tabla persona\n",
    "insertData2SQL(data_personas, 'persona', driver)"
   ]
  },
  {
   "cell_type": "code",
   "execution_count": 40,
   "id": "b27ddaf2-c189-4421-9ba4-42c8e75fb503",
   "metadata": {},
   "outputs": [
    {
     "name": "stdout",
     "output_type": "stream",
     "text": [
      "Se ha insertado 20 nuevos registros\n"
     ]
    }
   ],
   "source": [
    "data_ingresos = [\n",
    "    {\"idingreso\": 1, \"idproveedor\": 2, \"idusuario\": 1, \"tipo_comprobante\": \"Factura\", \"serie_comprobante\": \"A001\", \"num_comprobante\": \"000123\", \"fecha\": \"2024-03-01 08:30:00\", \"impuesto\": 18.00, \"total\": 150.00, \"estado\": \"Aprobado\"},\n",
    "    {\"idingreso\": 2, \"idproveedor\": 4, \"idusuario\": 2, \"tipo_comprobante\": \"Boleta\", \"serie_comprobante\": \"B002\", \"num_comprobante\": \"000456\", \"fecha\": \"2024-03-02 10:15:00\", \"impuesto\": 12.00, \"total\": 100.00, \"estado\": \"Aprobado\"},\n",
    "    {\"idingreso\": 3, \"idproveedor\": 1, \"idusuario\": 3, \"tipo_comprobante\": \"Factura\", \"serie_comprobante\": \"A003\", \"num_comprobante\": \"000789\", \"fecha\": \"2024-03-03 12:00:00\", \"impuesto\": 25.00, \"total\": 210.00, \"estado\": \"Pendiente\"},\n",
    "    {\"idingreso\": 4, \"idproveedor\": 3, \"idusuario\": 4, \"tipo_comprobante\": \"Boleta\", \"serie_comprobante\": \"B004\", \"num_comprobante\": \"001234\", \"fecha\": \"2024-03-04 14:45:00\", \"impuesto\": 15.00, \"total\": 120.00, \"estado\": \"Aprobado\"},\n",
    "    {\"idingreso\": 5, \"idproveedor\": 2, \"idusuario\": 5, \"tipo_comprobante\": \"Factura\", \"serie_comprobante\": \"A005\", \"num_comprobante\": \"001567\", \"fecha\": \"2024-03-05 16:30:00\", \"impuesto\": 20.00, \"total\": 170.00, \"estado\": \"Pendiente\"},\n",
    "    {\"idingreso\": 6, \"idproveedor\": 4, \"idusuario\": 1, \"tipo_comprobante\": \"Boleta\", \"serie_comprobante\": \"B006\", \"num_comprobante\": \"001890\", \"fecha\": \"2024-03-06 18:15:00\", \"impuesto\": 10.00, \"total\": 85.00, \"estado\": \"Aprobado\"},\n",
    "    {\"idingreso\": 7, \"idproveedor\": 1, \"idusuario\": 2, \"tipo_comprobante\": \"Factura\", \"serie_comprobante\": \"A007\", \"num_comprobante\": \"002345\", \"fecha\": \"2024-03-07 20:00:00\", \"impuesto\": 22.00, \"total\": 190.00, \"estado\": \"Aprobado\"},\n",
    "    {\"idingreso\": 8, \"idproveedor\": 3, \"idusuario\": 3, \"tipo_comprobante\": \"Boleta\", \"serie_comprobante\": \"B008\", \"num_comprobante\": \"002678\", \"fecha\": \"2024-03-08 22:45:00\", \"impuesto\": 14.00, \"total\": 115.00, \"estado\": \"Pendiente\"},\n",
    "    {\"idingreso\": 9, \"idproveedor\": 2, \"idusuario\": 4, \"tipo_comprobante\": \"Factura\", \"serie_comprobante\": \"A009\", \"num_comprobante\": \"003012\", \"fecha\": \"2024-03-09 08:30:00\", \"impuesto\": 19.00, \"total\": 160.00, \"estado\": \"Aprobado\"},\n",
    "    {\"idingreso\": 10, \"idproveedor\": 4, \"idusuario\": 5, \"tipo_comprobante\": \"Boleta\", \"serie_comprobante\": \"B010\", \"num_comprobante\": \"003456\", \"fecha\": \"2024-03-10 10:15:00\", \"impuesto\": 11.00, \"total\": 95.00, \"estado\": \"Aprobado\"},\n",
    "    {\"idingreso\": 11, \"idproveedor\": 1, \"idusuario\": 1, \"tipo_comprobante\": \"Factura\", \"serie_comprobante\": \"A011\", \"num_comprobante\": \"003789\", \"fecha\": \"2024-03-11 12:00:00\", \"impuesto\": 16.00, \"total\": 130.00, \"estado\": \"Pendiente\"},\n",
    "    {\"idingreso\": 12, \"idproveedor\": 3, \"idusuario\": 2, \"tipo_comprobante\": \"Boleta\", \"serie_comprobante\": \"B012\", \"num_comprobante\": \"004123\", \"fecha\": \"2024-03-12 14:45:00\", \"impuesto\": 13.00, \"total\": 110.00, \"estado\": \"Aprobado\"},\n",
    "    {\"idingreso\": 13, \"idproveedor\": 2, \"idusuario\": 3, \"tipo_comprobante\": \"Factura\", \"serie_comprobante\": \"A013\", \"num_comprobante\": \"004567\", \"fecha\": \"2024-03-13 16:30:00\", \"impuesto\": 21.00, \"total\": 180.00, \"estado\": \"Pendiente\"},\n",
    "    {\"idingreso\": 14, \"idproveedor\": 4, \"idusuario\": 4, \"tipo_comprobante\": \"Boleta\", \"serie_comprobante\": \"B014\", \"num_comprobante\": \"004890\", \"fecha\": \"2024-03-14 18:15:00\", \"impuesto\": 9.00, \"total\": 75.00, \"estado\": \"Aprobado\"},\n",
    "    {\"idingreso\": 15, \"idproveedor\": 1, \"idusuario\": 5, \"tipo_comprobante\": \"Factura\", \"serie_comprobante\": \"A015\", \"num_comprobante\": \"005234\", \"fecha\": \"2024-03-15 20:00:00\", \"impuesto\": 23.00, \"total\": 200.00, \"estado\": \"Aprobado\"},\n",
    "    {\"idingreso\": 16, \"idproveedor\": 3, \"idusuario\": 1, \"tipo_comprobante\": \"Boleta\", \"serie_comprobante\": \"B016\", \"num_comprobante\": \"005678\", \"fecha\": \"2024-03-16 22:45:00\", \"impuesto\": 17.00, \"total\": 140.00, \"estado\": \"Pendiente\"},\n",
    "    {\"idingreso\": 17, \"idproveedor\": 2, \"idusuario\": 2, \"tipo_comprobante\": \"Factura\", \"serie_comprobante\": \"A017\", \"num_comprobante\": \"006012\", \"fecha\": \"2024-03-17 08:30:00\", \"impuesto\": 26.00, \"total\": 220.00, \"estado\": \"Aprobado\"},\n",
    "    {\"idingreso\": 18, \"idproveedor\": 4, \"idusuario\": 3, \"tipo_comprobante\": \"Boleta\", \"serie_comprobante\": \"B018\", \"num_comprobante\": \"006456\", \"fecha\": \"2024-03-18 10:15:00\", \"impuesto\": 8.00, \"total\": 65.00, \"estado\": \"Aprobado\"},\n",
    "    {\"idingreso\": 19, \"idproveedor\": 1, \"idusuario\": 4, \"tipo_comprobante\": \"Factura\", \"serie_comprobante\": \"A019\", \"num_comprobante\": \"006789\", \"fecha\": \"2024-03-19 12:00:00\", \"impuesto\": 24.00, \"total\": 190.00, \"estado\": \"Pendiente\"},\n",
    "    {\"idingreso\": 20, \"idproveedor\": 3, \"idusuario\": 5, \"tipo_comprobante\": \"Boleta\", \"serie_comprobante\": \"B020\", \"num_comprobante\": \"007123\", \"fecha\": \"2024-03-20 14:45:00\", \"impuesto\": 11.00, \"total\": 95.00, \"estado\": \"Aprobado\"}\n",
    "]\n",
    "\n",
    "#insertamos data en tabla ingresos\n",
    "insertData2SQL(data_ingresos, 'ingreso', driver)"
   ]
  },
  {
   "cell_type": "code",
   "execution_count": 41,
   "id": "e58f70d6-b084-42bc-921d-dc7b1594fb41",
   "metadata": {},
   "outputs": [
    {
     "name": "stdout",
     "output_type": "stream",
     "text": [
      "Se ha insertado 20 nuevos registros\n"
     ]
    }
   ],
   "source": [
    "data_detalles_ingreso = [\n",
    "    {\"iddetalle_ingreso\": 1, \"idingreso\": 1, \"idarticulo\": 1, \"cantidad\": 20, \"precio\": 2.50},\n",
    "    {\"iddetalle_ingreso\": 2, \"idingreso\": 2, \"idarticulo\": 2, \"cantidad\": 15, \"precio\": 1.75},\n",
    "    {\"iddetalle_ingreso\": 3, \"idingreso\": 3, \"idarticulo\": 3, \"cantidad\": 25, \"precio\": 3.00},\n",
    "    {\"iddetalle_ingreso\": 4, \"idingreso\": 4, \"idarticulo\": 4, \"cantidad\": 30, \"precio\": 1.99},\n",
    "    {\"iddetalle_ingreso\": 5, \"idingreso\": 5, \"idarticulo\": 5, \"cantidad\": 18, \"precio\": 0.99},\n",
    "    {\"iddetalle_ingreso\": 6, \"idingreso\": 6, \"idarticulo\": 6, \"cantidad\": 12, \"precio\": 3.49},\n",
    "    {\"iddetalle_ingreso\": 7, \"idingreso\": 7, \"idarticulo\": 7, \"cantidad\": 10, \"precio\": 9.99},\n",
    "    {\"iddetalle_ingreso\": 8, \"idingreso\": 8, \"idarticulo\": 8, \"cantidad\": 22, \"precio\": 6.50},\n",
    "    {\"iddetalle_ingreso\": 9, \"idingreso\": 9, \"idarticulo\": 9, \"cantidad\": 28, \"precio\": 4.25},\n",
    "    {\"iddetalle_ingreso\": 10, \"idingreso\": 10, \"idarticulo\": 10, \"cantidad\": 16, \"precio\": 2.25},\n",
    "    {\"iddetalle_ingreso\": 11, \"idingreso\": 11, \"idarticulo\": 11, \"cantidad\": 14, \"precio\": 1.50},\n",
    "    {\"iddetalle_ingreso\": 12, \"idingreso\": 12, \"idarticulo\": 12, \"cantidad\": 32, \"precio\": 0.99},\n",
    "    {\"iddetalle_ingreso\": 13, \"idingreso\": 13, \"idarticulo\": 13, \"cantidad\": 24, \"precio\": 5.99},\n",
    "    {\"iddetalle_ingreso\": 14, \"idingreso\": 14, \"idarticulo\": 14, \"cantidad\": 20, \"precio\": 3.49},\n",
    "    {\"iddetalle_ingreso\": 15, \"idingreso\": 15, \"idarticulo\": 15, \"cantidad\": 8, \"precio\": 4.75},\n",
    "    {\"iddetalle_ingreso\": 16, \"idingreso\": 16, \"idarticulo\": 16, \"cantidad\": 26, \"precio\": 3.99},\n",
    "    {\"iddetalle_ingreso\": 17, \"idingreso\": 17, \"idarticulo\": 17, \"cantidad\": 18, \"precio\": 2.25},\n",
    "    {\"iddetalle_ingreso\": 18, \"idingreso\": 18, \"idarticulo\": 18, \"cantidad\": 15, \"precio\": 7.99},\n",
    "    {\"iddetalle_ingreso\": 19, \"idingreso\": 19, \"idarticulo\": 19, \"cantidad\": 20, \"precio\": 1.75},\n",
    "    {\"iddetalle_ingreso\": 20, \"idingreso\": 20, \"idarticulo\": 20, \"cantidad\": 22, \"precio\": 1.49}\n",
    "]\n",
    "\n",
    "#insertamos data en tabla detalle_ingresos\n",
    "insertData2SQL(data_detalles_ingreso, 'detalle_ingreso', driver)"
   ]
  },
  {
   "cell_type": "code",
   "execution_count": 43,
   "id": "fe9b47a1-1639-4878-bbb0-e24b49e82327",
   "metadata": {},
   "outputs": [
    {
     "name": "stdout",
     "output_type": "stream",
     "text": [
      "Se ha insertado 20 nuevos registros\n"
     ]
    }
   ],
   "source": [
    "data_ventas = [\n",
    "    {\"idventa\": 1, \"idcliente\": 1, \"idusuario\": 1, \"tipo_comprobante\": \"Boleta\", \"serie_comprobante\": \"B001\", \"num_comprobante\": \"000123\", \"fecha\": \"2024-03-01 08:30:00\", \"impuesto\": 10.00, \"total\": 85.00, \"estado\": \"Aprobado\"},\n",
    "    {\"idventa\": 2, \"idcliente\": 2, \"idusuario\": 2, \"tipo_comprobante\": \"Factura\", \"serie_comprobante\": \"A002\", \"num_comprobante\": \"000456\", \"fecha\": \"2024-03-02 10:15:00\", \"impuesto\": 15.00, \"total\": 120.00, \"estado\": \"Aprobado\"},\n",
    "    {\"idventa\": 3, \"idcliente\": 3, \"idusuario\": 3, \"tipo_comprobante\": \"Boleta\", \"serie_comprobante\": \"B003\", \"num_comprobante\": \"000789\", \"fecha\": \"2024-03-03 12:00:00\", \"impuesto\": 12.00, \"total\": 100.00, \"estado\": \"Pendiente\"},\n",
    "    {\"idventa\": 4, \"idcliente\": 4, \"idusuario\": 4, \"tipo_comprobante\": \"Factura\", \"serie_comprobante\": \"A004\", \"num_comprobante\": \"001234\", \"fecha\": \"2024-03-04 14:45:00\", \"impuesto\": 18.00, \"total\": 150.00, \"estado\": \"Aprobado\"},\n",
    "    {\"idventa\": 5, \"idcliente\": 5, \"idusuario\": 5, \"tipo_comprobante\": \"Boleta\", \"serie_comprobante\": \"B005\", \"num_comprobante\": \"001567\", \"fecha\": \"2024-03-05 16:30:00\", \"impuesto\": 20.00, \"total\": 170.00, \"estado\": \"Pendiente\"},\n",
    "    {\"idventa\": 6, \"idcliente\": 1, \"idusuario\": 1, \"tipo_comprobante\": \"Factura\", \"serie_comprobante\": \"A006\", \"num_comprobante\": \"001890\", \"fecha\": \"2024-03-06 18:15:00\", \"impuesto\": 8.00, \"total\": 65.00, \"estado\": \"Aprobado\"},\n",
    "    {\"idventa\": 7, \"idcliente\": 2, \"idusuario\": 2, \"tipo_comprobante\": \"Boleta\", \"serie_comprobante\": \"B007\", \"num_comprobante\": \"002345\", \"fecha\": \"2024-03-07 20:00:00\", \"impuesto\": 22.00, \"total\": 190.00, \"estado\": \"Aprobado\"},\n",
    "    {\"idventa\": 8, \"idcliente\": 3, \"idusuario\": 3, \"tipo_comprobante\": \"Factura\", \"serie_comprobante\": \"A008\", \"num_comprobante\": \"002678\", \"fecha\": \"2024-03-08 22:45:00\", \"impuesto\": 14.00, \"total\": 115.00, \"estado\": \"Pendiente\"},\n",
    "    {\"idventa\": 9, \"idcliente\": 4, \"idusuario\": 4, \"tipo_comprobante\": \"Boleta\", \"serie_comprobante\": \"B009\", \"num_comprobante\": \"003012\", \"fecha\": \"2024-03-09 08:30:00\", \"impuesto\": 16.00, \"total\": 130.00, \"estado\": \"Aprobado\"},\n",
    "    {\"idventa\": 10, \"idcliente\": 5, \"idusuario\": 5, \"tipo_comprobante\": \"Factura\", \"serie_comprobante\": \"A010\", \"num_comprobante\": \"003456\", \"fecha\": \"2024-03-10 10:15:00\", \"impuesto\": 11.00, \"total\": 95.00, \"estado\": \"Aprobado\"},\n",
    "    {\"idventa\": 11, \"idcliente\": 1, \"idusuario\": 1, \"tipo_comprobante\": \"Boleta\", \"serie_comprobante\": \"B011\", \"num_comprobante\": \"003789\", \"fecha\": \"2024-03-11 12:00:00\", \"impuesto\": 17.00, \"total\": 140.00, \"estado\": \"Pendiente\"},\n",
    "    {\"idventa\": 12, \"idcliente\": 2, \"idusuario\": 2, \"tipo_comprobante\": \"Factura\", \"serie_comprobante\": \"A012\", \"num_comprobante\": \"004123\", \"fecha\": \"2024-03-12 14:45:00\", \"impuesto\": 13.00, \"total\": 110.00, \"estado\": \"Aprobado\"},\n",
    "    {\"idventa\": 13, \"idcliente\": 3, \"idusuario\": 3, \"tipo_comprobante\": \"Boleta\", \"serie_comprobante\": \"B013\", \"num_comprobante\": \"004567\", \"fecha\": \"2024-03-13 16:30:00\", \"impuesto\": 19.00, \"total\": 160.00, \"estado\": \"Pendiente\"},\n",
    "    {\"idventa\": 14, \"idcliente\": 4, \"idusuario\": 4, \"tipo_comprobante\": \"Factura\", \"serie_comprobante\": \"A014\", \"num_comprobante\": \"004890\", \"fecha\": \"2024-03-14 18:15:00\", \"impuesto\": 9.00, \"total\": 75.00, \"estado\": \"Aprobado\"},\n",
    "    {\"idventa\": 15, \"idcliente\": 5, \"idusuario\": 5, \"tipo_comprobante\": \"Boleta\", \"serie_comprobante\": \"B015\", \"num_comprobante\": \"005234\", \"fecha\": \"2024-03-15 20:00:00\", \"impuesto\": 23.00, \"total\": 200.00, \"estado\": \"Aprobado\"},\n",
    "    {\"idventa\": 16, \"idcliente\": 1, \"idusuario\": 1, \"tipo_comprobante\": \"Factura\", \"serie_comprobante\": \"A016\", \"num_comprobante\": \"005678\", \"fecha\": \"2024-03-16 22:45:00\", \"impuesto\": 18.00, \"total\": 150.00, \"estado\": \"Pendiente\"},\n",
    "    {\"idventa\": 17, \"idcliente\": 2, \"idusuario\": 2, \"tipo_comprobante\": \"Boleta\", \"serie_comprobante\": \"B017\", \"num_comprobante\": \"006012\", \"fecha\": \"2024-03-17 08:30:00\", \"impuesto\": 25.00, \"total\": 210.00, \"estado\": \"Aprobado\"},\n",
    "    {\"idventa\": 18, \"idcliente\": 3, \"idusuario\": 3, \"tipo_comprobante\": \"Factura\", \"serie_comprobante\": \"A018\", \"num_comprobante\": \"006456\", \"fecha\": \"2024-03-18 10:15:00\", \"impuesto\": 12.00, \"total\": 100.00, \"estado\": \"Aprobado\"},\n",
    "    {\"idventa\": 19, \"idcliente\": 4, \"idusuario\": 4, \"tipo_comprobante\": \"Boleta\", \"serie_comprobante\": \"B019\", \"num_comprobante\": \"006789\", \"fecha\": \"2024-03-19 12:00:00\", \"impuesto\": 24.00, \"total\": 190.00, \"estado\": \"Pendiente\"},\n",
    "    {\"idventa\": 20, \"idcliente\": 5, \"idusuario\": 5, \"tipo_comprobante\": \"Factura\", \"serie_comprobante\": \"A020\", \"num_comprobante\": \"007123\", \"fecha\": \"2024-03-20 14:45:00\", \"impuesto\": 10.00, \"total\": 85.00, \"estado\": \"Aprobado\"}\n",
    "]\n",
    "\n",
    "#insertamos data en tabla venta\n",
    "insertData2SQL(data_ventas, 'venta', driver)"
   ]
  },
  {
   "cell_type": "code",
   "execution_count": 44,
   "id": "c1290662-777d-4155-b1bb-a597de2dac09",
   "metadata": {},
   "outputs": [
    {
     "name": "stdout",
     "output_type": "stream",
     "text": [
      "Se ha insertado 20 nuevos registros\n"
     ]
    }
   ],
   "source": [
    "data_detalles_venta = [\n",
    "    {\"iddetalle_venta\": 1, \"idventa\": 1, \"idarticulo\": 1, \"cantidad\": 5, \"precio\": 2.50, \"descuento\": 0.00},\n",
    "    {\"iddetalle_venta\": 2, \"idventa\": 1, \"idarticulo\": 2, \"cantidad\": 3, \"precio\": 1.75, \"descuento\": 0.00},\n",
    "    {\"iddetalle_venta\": 3, \"idventa\": 2, \"idarticulo\": 3, \"cantidad\": 4, \"precio\": 3.00, \"descuento\": 0.00},\n",
    "    {\"iddetalle_venta\": 4, \"idventa\": 2, \"idarticulo\": 4, \"cantidad\": 6, \"precio\": 1.99, \"descuento\": 0.00},\n",
    "    {\"iddetalle_venta\": 5, \"idventa\": 3, \"idarticulo\": 5, \"cantidad\": 3, \"precio\": 0.99, \"descuento\": 0.00},\n",
    "    {\"iddetalle_venta\": 6, \"idventa\": 3, \"idarticulo\": 6, \"cantidad\": 2, \"precio\": 3.49, \"descuento\": 0.00},\n",
    "    {\"iddetalle_venta\": 7, \"idventa\": 4, \"idarticulo\": 7, \"cantidad\": 1, \"precio\": 9.99, \"descuento\": 0.00},\n",
    "    {\"iddetalle_venta\": 8, \"idventa\": 4, \"idarticulo\": 8, \"cantidad\": 2, \"precio\": 6.50, \"descuento\": 0.00},\n",
    "    {\"iddetalle_venta\": 9, \"idventa\": 5, \"idarticulo\": 9, \"cantidad\": 5, \"precio\": 4.25, \"descuento\": 0.00},\n",
    "    {\"iddetalle_venta\": 10, \"idventa\": 5, \"idarticulo\": 10, \"cantidad\": 3, \"precio\": 2.25, \"descuento\": 0.00},\n",
    "    {\"iddetalle_venta\": 11, \"idventa\": 6, \"idarticulo\": 11, \"cantidad\": 4, \"precio\": 1.50, \"descuento\": 0.00},\n",
    "    {\"iddetalle_venta\": 12, \"idventa\": 6, \"idarticulo\": 12, \"cantidad\": 7, \"precio\": 0.99, \"descuento\": 0.00},\n",
    "    {\"iddetalle_venta\": 13, \"idventa\": 7, \"idarticulo\": 13, \"cantidad\": 2, \"precio\": 5.99, \"descuento\": 0.00},\n",
    "    {\"iddetalle_venta\": 14, \"idventa\": 7, \"idarticulo\": 14, \"cantidad\": 4, \"precio\": 3.49, \"descuento\": 0.00},\n",
    "    {\"iddetalle_venta\": 15, \"idventa\": 8, \"idarticulo\": 15, \"cantidad\": 1, \"precio\": 4.75, \"descuento\": 0.00},\n",
    "    {\"iddetalle_venta\": 16, \"idventa\": 8, \"idarticulo\": 16, \"cantidad\": 3, \"precio\": 3.99, \"descuento\": 0.00},\n",
    "    {\"iddetalle_venta\": 17, \"idventa\": 9, \"idarticulo\": 17, \"cantidad\": 2, \"precio\": 2.25, \"descuento\": 0.00},\n",
    "    {\"iddetalle_venta\": 18, \"idventa\": 9, \"idarticulo\": 18, \"cantidad\": 1, \"precio\": 7.99, \"descuento\": 0.00},\n",
    "    {\"iddetalle_venta\": 19, \"idventa\": 10, \"idarticulo\": 19, \"cantidad\": 3, \"precio\": 1.75, \"descuento\": 0.00},\n",
    "    {\"iddetalle_venta\": 20, \"idventa\": 10, \"idarticulo\": 20, \"cantidad\": 4, \"precio\": 1.49, \"descuento\": 0.00}\n",
    "]\n",
    "\n",
    "#insertamos data en tabla detalle_venta\n",
    "insertData2SQL(data_detalles_venta, 'detalle_venta', driver)"
   ]
  },
  {
   "cell_type": "markdown",
   "id": "9dc07010-3bc2-4c2c-bd8e-0cf25ae95d3d",
   "metadata": {},
   "source": [
    "### Preguntas de negocio"
   ]
  },
  {
   "cell_type": "markdown",
   "id": "abb52bab-4b6a-4167-ab7d-298e385cfc73",
   "metadata": {},
   "source": [
    "- Ventas Totales\n",
    "- Ventas totales por categoría\n",
    "- Top 3 categorías\n",
    "- Top 5 clientes gold\n",
    "- Top fechas ventas"
   ]
  },
  {
   "cell_type": "markdown",
   "id": "f2934365-a9b2-486e-983b-69c76668c2fa",
   "metadata": {},
   "source": [
    "### Arquitectura DWH"
   ]
  },
  {
   "attachments": {
    "df0981dc-f503-47cb-8ee3-e04e9631121e.png": {
     "image/png": "[encoded data removed]"
    }
   },
   "cell_type": "markdown",
   "id": "db222b75-b1a5-48c7-885a-4ec582eef634",
   "metadata": {},
   "source": [
    "![DWH_Diagram.png](attachment:df0981dc-f503-47cb-8ee3-e04e9631121e.png)"
   ]
  },
  {
   "cell_type": "code",
   "execution_count": 5,
   "id": "52eccbde-5913-495e-8e3e-25210098d5e7",
   "metadata": {},
   "outputs": [
    {
     "name": "stdout",
     "output_type": "stream",
     "text": [
      "{'DBInstance': {'DBInstanceIdentifier': 'ventas-dwh', 'DBInstanceClass': 'db.t3.micro', 'Engine': 'postgres', 'DBInstanceStatus': 'creating', 'MasterUsername': 'postgres_admin', 'DBName': 'dwhpuntoventa', 'AllocatedStorage': 15, 'PreferredBackupWindow': '07:13-07:43', 'BackupRetentionPeriod': 1, 'DBSecurityGroups': [], 'VpcSecurityGroups': [{'VpcSecurityGroupId': 'sg-011f0a6c313f819e9', 'Status': 'active'}], 'DBParameterGroups': [{'DBParameterGroupName': 'default.postgres16', 'ParameterApplyStatus': 'in-sync'}], 'DBSubnetGroup': {'DBSubnetGroupName': 'default', 'DBSubnetGroupDescription': 'default', 'VpcId': 'vpc-09e5ac0049f317462', 'SubnetGroupStatus': 'Complete', 'Subnets': [{'SubnetIdentifier': 'subnet-002e032543a6bab3c', 'SubnetAvailabilityZone': {'Name': 'us-east-1f'}, 'SubnetOutpost': {}, 'SubnetStatus': 'Active'}, {'SubnetIdentifier': 'subnet-075dee9f0bf4b8e81', 'SubnetAvailabilityZone': {'Name': 'us-east-1b'}, 'SubnetOutpost': {}, 'SubnetStatus': 'Active'}, {'SubnetIdentifier': 'subnet-08095b27b3be8cf9b', 'SubnetAvailabilityZone': {'Name': 'us-east-1a'}, 'SubnetOutpost': {}, 'SubnetStatus': 'Active'}, {'SubnetIdentifier': 'subnet-080aaf9d73b591a82', 'SubnetAvailabilityZone': {'Name': 'us-east-1d'}, 'SubnetOutpost': {}, 'SubnetStatus': 'Active'}, {'SubnetIdentifier': 'subnet-079d7f4acefa1ff27', 'SubnetAvailabilityZone': {'Name': 'us-east-1e'}, 'SubnetOutpost': {}, 'SubnetStatus': 'Active'}, {'SubnetIdentifier': 'subnet-089ca8b028182bb4f', 'SubnetAvailabilityZone': {'Name': 'us-east-1c'}, 'SubnetOutpost': {}, 'SubnetStatus': 'Active'}]}, 'PreferredMaintenanceWindow': 'wed:09:00-wed:09:30', 'PendingModifiedValues': {'MasterUserPassword': '****'}, 'MultiAZ': False, 'EngineVersion': '16.1', 'AutoMinorVersionUpgrade': True, 'ReadReplicaDBInstanceIdentifiers': [], 'LicenseModel': 'postgresql-license', 'OptionGroupMemberships': [{'OptionGroupName': 'default:postgres-16', 'Status': 'in-sync'}], 'PubliclyAccessible': True, 'StorageType': 'gp2', 'DbInstancePort': 0, 'StorageEncrypted': False, 'DbiResourceId': 'db-TGCADBQTTZFE3EZYE3YBQWUTFU', 'CACertificateIdentifier': 'rds-ca-rsa2048-g1', 'DomainMemberships': [], 'CopyTagsToSnapshot': False, 'MonitoringInterval': 0, 'DBInstanceArn': 'arn:aws:rds:us-east-1:058264097493:db:ventas-dwh', 'IAMDatabaseAuthenticationEnabled': False, 'PerformanceInsightsEnabled': False, 'DeletionProtection': False, 'AssociatedRoles': [], 'TagList': [], 'CustomerOwnedIpEnabled': False, 'BackupTarget': 'region', 'NetworkType': 'IPV4', 'StorageThroughput': 0, 'CertificateDetails': {'CAIdentifier': 'rds-ca-rsa2048-g1'}, 'DedicatedLogVolume': False}, 'ResponseMetadata': {'RequestId': '1caf5d2f-62f3-43f2-9fb6-efc6cfe120d1', 'HTTPStatusCode': 200, 'HTTPHeaders': {'x-amzn-requestid': '1caf5d2f-62f3-43f2-9fb6-efc6cfe120d1', 'strict-transport-security': 'max-age=31536000', 'content-type': 'text/xml', 'content-length': '4055', 'date': 'Mon, 01 Apr 2024 13:15:27 GMT'}, 'RetryAttempts': 0}}\n"
     ]
    }
   ],
   "source": [
    "try:\n",
    "    response = aws_rds_conn.create_db_instance(\n",
    "                DBInstanceIdentifier=config.get('DWH','DB_INSTANCE_ID'),\n",
    "                DBName=config.get('DWH', 'DB_NAME'),\n",
    "                DBInstanceClass='db.t3.micro',\n",
    "                Engine='postgres',\n",
    "                MasterUsername=config.get('DWH', 'DB_USER'),\n",
    "                MasterUserPassword=config.get('DWH', 'DB_PASSWORD'),\n",
    "                Port=int(config.get('DWH', 'DB_PORT')),\n",
    "                PubliclyAccessible=True,\n",
    "                VpcSecurityGroupIds=[config.get('VPC', 'SECURITY_GROUP')],\n",
    "                AllocatedStorage=15\n",
    "               )\n",
    "    print(response)\n",
    "except aws_rds_conn.exceptions.DBInstanceAlreadyExistsFault as ex:\n",
    "    print('La instancia ya existe')\n",
    "except Exception as ex:\n",
    "    print('Error!! ', ex)\n",
    "    "
   ]
  },
  {
   "cell_type": "code",
   "execution_count": 5,
   "id": "e34b7952-1500-42dd-9954-6b23c448572f",
   "metadata": {
    "editable": true,
    "slideshow": {
     "slide_type": ""
    },
    "tags": []
   },
   "outputs": [
    {
     "name": "stdout",
     "output_type": "stream",
     "text": [
      "ventas-dwh.crkusmo6c5dz.us-east-1.rds.amazonaws.com\n"
     ]
    }
   ],
   "source": [
    "try:\n",
    "    instance=aws_rds_conn.describe_db_instances(DBInstanceIdentifier=config.get('DWH','DB_INSTANCE_ID'))\n",
    "    RDS_HOSTNAMEDWH= instance.get('DBInstances')[0].get('Endpoint').get('Address')\n",
    "    print(RDS_HOSTNAMEDWH)\n",
    "except Exception as ex:\n",
    "    print('Error!!!', ex)"
   ]
  },
  {
   "cell_type": "code",
   "execution_count": 6,
   "id": "2f2ab2f1-7df3-4938-9da0-a2a6a3c87a8f",
   "metadata": {},
   "outputs": [
    {
     "data": {
      "text/plain": [
       "'\\nCREATE TABLE IF NOT EXISTS dim_tiempo (\\n  date_key INT NOT NULL,\\n  full_date DATE NULL,\\n  day_of_week INT NULL,\\n  day_of_month INT NULL,\\n  day_name VARCHAR(45) NULL,\\n  month INT NULL,\\n  month_name VARCHAR(45) NULL,\\n  yearmo VARCHAR(45) NULL,\\n  PRIMARY KEY (date_key)\\n  );\\n\\n\\nCREATE TABLE IF NOT EXISTS dim_persona (\\n  idpersona INT NOT NULL,\\n  tipo_persona VARCHAR(20) NULL,\\n  num_documento VARCHAR(20) NULL,\\n  direccion VARCHAR(70) NULL,\\n  telefono VARCHAR(20) NULL,\\n  email VARCHAR(50) NULL,\\n  PRIMARY KEY (idpersona)\\n  );\\n\\n\\nCREATE TABLE IF NOT EXISTS dim_articulo (\\n  idarticulo INT NOT NULL,\\n  codigo VARCHAR(50) NULL,\\n  nombre VARCHAR(100) NULL,\\n  precio_venta DECIMAL(11,2) NULL,\\n  stock INT NULL,\\n  descripcion VARCHAR(255) NULL,\\n  estado BIT NULL,\\n  PRIMARY KEY (idarticulo)\\n  );\\n\\n\\nCREATE TABLE IF NOT EXISTS dim_categoria (\\n  idcategoria INT NOT NULL,\\n  nombre VARCHAR(50) NULL,\\n  descripcion VARCHAR(255) NULL,\\n  estado BIT NULL,\\n  PRIMARY KEY (idcategoria)\\n  );\\n\\n\\nCREATE TABLE IF NOT EXISTS fact_ventas (\\n  num_comprobante VARCHAR(10) NULL,\\n  date_key INT NULL,\\n  idcliente INT NULL,\\n  idarticulo INT NULL,\\n  idcategoria INT NULL,\\n  cantidad INT NULL,\\n  precio DECIMAL(11,2) NULL,\\n  descuento DECIMAL(11,2) NULL,\\n  impuesto DECIMAL(11,2) NULL,\\n  fecha DATE NULL,\\n  CONSTRAINT fk_fact_ventas_dim_tiempo1\\n    FOREIGN KEY (date_key)\\n    REFERENCES dim_tiempo (date_key),\\n  CONSTRAINT fk_fact_ventas_dim_persona1\\n    FOREIGN KEY (idcliente)\\n    REFERENCES dim_persona (idpersona),\\n  CONSTRAINT fk_fact_ventas_dim_articulo1\\n    FOREIGN KEY (idarticulo)\\n    REFERENCES dim_articulo (idarticulo),\\n  CONSTRAINT fk_fact_ventas_dim_categoria1\\n    FOREIGN KEY (idcategoria)\\n    REFERENCES dim_categoria (idcategoria)\\n\\t);\\n'"
      ]
     },
     "execution_count": 6,
     "metadata": {},
     "output_type": "execute_result"
    }
   ],
   "source": [
    "import Arquitectura_DWH_Python\n",
    "Arquitectura_DWH_Python.DDL_QUERY"
   ]
  },
  {
   "cell_type": "code",
   "execution_count": 7,
   "id": "19777bb9-fc41-4178-ab8e-2ac5154cac74",
   "metadata": {},
   "outputs": [
    {
     "name": "stdout",
     "output_type": "stream",
     "text": [
      "Base de datos creada exitosamente\n"
     ]
    }
   ],
   "source": [
    "try:\n",
    "    db_pg_conn = psycopg2.connect(\n",
    "                    database=config.get('DWH', 'DB_NAME'),\n",
    "                    user=config.get('DWH', 'DB_USER'),\n",
    "                    password=config.get('DWH', 'DB_PASSWORD'),\n",
    "                    host=RDS_HOSTNAMEDWH,\n",
    "                    port=config.get('DWH', 'DB_PORT')\n",
    "                )\n",
    "    cursor = db_pg_conn.cursor()\n",
    "    cursor.execute(Arquitectura_DWH_Python.DDL_QUERY)\n",
    "    db_pg_conn.commit()\n",
    "    print(\"Base de datos creada exitosamente\")\n",
    "except Exception as ex:\n",
    "    print('Error!!!', ex)"
   ]
  },
  {
   "cell_type": "markdown",
   "id": "f248abd9-f978-4c2e-89df-d581797b9e52",
   "metadata": {},
   "source": [
    "### ETL"
   ]
  },
  {
   "cell_type": "code",
   "execution_count": 8,
   "id": "c5050df7-e778-4b1b-818a-644f823ebad4",
   "metadata": {},
   "outputs": [],
   "source": [
    "def obtenerDatosTabla(table_name, driver):\n",
    "    \n",
    "    consulta = 'SELECT * FROM '+ table_name\n",
    "    \n",
    "    try:\n",
    "        response = pd.read_sql_query(consulta, driver)\n",
    "        return response\n",
    "    except Exception as ex:\n",
    "        print(ex)"
   ]
  },
  {
   "cell_type": "code",
   "execution_count": 9,
   "id": "b0415113-b027-4a5c-a4d3-634094db9c54",
   "metadata": {},
   "outputs": [],
   "source": [
    "driver = f\"\"\"mysql://{config.get('TRANSACC', 'DB_USER')}:{config.get('TRANSACC', 'DB_PASSWORD')}@{RDS_HOSTNAME}:{config.get('TRANSACC', 'DB_PORT')}/{config.get('TRANSACC', 'DB_NAME')}\"\"\""
   ]
  },
  {
   "cell_type": "code",
   "execution_count": 9,
   "id": "0fd4d957-802a-428b-93b9-188c1e5c139d",
   "metadata": {},
   "outputs": [],
   "source": [
    "df_categoria = pd.DataFrame(obtenerDatosTabla('categoria',driver))\n",
    "df_articulo = pd.DataFrame(obtenerDatosTabla('articulo',driver))\n",
    "df_persona = pd.DataFrame(obtenerDatosTabla('persona',driver))\n",
    "df_ventas = pd.DataFrame(obtenerDatosTabla('venta',driver))\n",
    "df_det_venta = pd.DataFrame(obtenerDatosTabla('detalle_venta',driver))"
   ]
  },
  {
   "cell_type": "code",
   "execution_count": 10,
   "id": "4328691d-9f83-4a4d-9556-beee38745d02",
   "metadata": {},
   "outputs": [],
   "source": [
    "def InsertAPostgres(data_dict, table_name, driver):\n",
    "    \n",
    "    df_data=pd.DataFrame.from_records(data_dict)\n",
    "    \n",
    "    try:\n",
    "        response = df_data.to_sql(table_name, driver, index=False, if_exists='append')\n",
    "        print(f\"Se ha insertado {response} nuevos registros\")\n",
    "        #print(f\"El error es el to_sql\")\n",
    "    except Exception as ex:\n",
    "        print(ex)"
   ]
  },
  {
   "cell_type": "code",
   "execution_count": 6,
   "id": "615e312a-a19f-40b2-8ef0-0364e2beeab4",
   "metadata": {
    "editable": true,
    "slideshow": {
     "slide_type": ""
    },
    "tags": []
   },
   "outputs": [],
   "source": [
    "driverpg = f\"\"\"postgresql://{config.get('DWH', 'DB_USER')}:{config.get('DWH', 'DB_PASSWORD')}@{RDS_HOSTNAMEDWH}:{config.get('DWH', 'DB_PORT')}/{config.get('DWH', 'DB_NAME')}\"\"\""
   ]
  },
  {
   "cell_type": "markdown",
   "id": "f32e9c9e-af82-4fc2-a4d9-4cf8bc4d5bab",
   "metadata": {},
   "source": [
    "### Llenando tabla de DWH Tablas de dimensiones y hechos"
   ]
  },
  {
   "cell_type": "code",
   "execution_count": null,
   "id": "20a93db5-878d-4864-928b-d775176eb3ab",
   "metadata": {},
   "outputs": [],
   "source": [
    "data_categoriadw = []\n",
    "\n",
    "for indice, categoria in df_categoria.iterrows():\n",
    "    nueva_categoria = {\n",
    "        'idcategoria': categoria.iloc[0],\n",
    "        'nombre':categoria.iloc[1],\n",
    "        'descripcion':categoria.iloc[2],\n",
    "        'estado':'1'\n",
    "    }\n",
    "    data_categoriadw.append(nueva_categoria)\n",
    "\n",
    "InsertAPostgres(data_categoriadw, 'dim_categoria', driverpg)"
   ]
  },
  {
   "cell_type": "code",
   "execution_count": null,
   "id": "62311694-8316-4dd0-b43c-7d521aa14603",
   "metadata": {},
   "outputs": [],
   "source": [
    "data_articulodw = []\n",
    "\n",
    "for indice, articulo in df_articulo.iterrows():\n",
    "    nuevo_articulo = {\n",
    "        'idarticulo': articulo.iloc[0],\n",
    "        'codigo':articulo.iloc[2],\n",
    "        'nombre':articulo.iloc[3],\n",
    "        'precio_venta':articulo.iloc[4],\n",
    "        'stock':articulo.iloc[5],\n",
    "        'descripcion':articulo.iloc[6],\n",
    "        'estado':'1'\n",
    "    }\n",
    "    data_articulodw.append(nuevo_articulo)\n",
    "#data_articulodw\n",
    "InsertAPostgres(data_articulodw, 'dim_articulo', driverpg)"
   ]
  },
  {
   "cell_type": "code",
   "execution_count": null,
   "id": "90623dab-52cf-4ad5-aeb8-17735f8bf5f3",
   "metadata": {},
   "outputs": [],
   "source": [
    "data_personadw = []\n",
    "\n",
    "for indice, persona in df_persona.iterrows():\n",
    "    nueva_persona = {\n",
    "        'idpersona': persona.iloc[0],\n",
    "        'tipo_persona':persona.iloc[1],\n",
    "        'num_documento':persona.iloc[4],\n",
    "        'direccion':persona.iloc[5],\n",
    "        'telefono':persona.iloc[6],\n",
    "        'email':persona.iloc[7]\n",
    "    }\n",
    "    data_personadw.append(nueva_persona)\n",
    "\n",
    "InsertAPostgres(data_personadw, 'dim_persona', driverpg)"
   ]
  },
  {
   "cell_type": "code",
   "execution_count": null,
   "id": "ca3a5551-5bad-439e-be14-b21e793c653a",
   "metadata": {},
   "outputs": [],
   "source": [
    "data_tiempodw = []\n",
    "\n",
    "for indice, tiempo in df_ventas.iterrows():\n",
    "    nuevo_tiempo = {\n",
    "        'date_key': int(tiempo.iloc[6].strftime(\"%Y%m%d\")),\n",
    "        'full_date': tiempo.iloc[6],\n",
    "        'day_of_week':tiempo.iloc[6].dayofweek,\n",
    "        'day_of_month':tiempo.iloc[6].day,\n",
    "        'day_name':tiempo.iloc[6].strftime(\"%A\"),\n",
    "        'month':tiempo.iloc[6].month,\n",
    "        'month_name': tiempo.iloc[6].strftime(\"%B\"),\n",
    "        'yearmo': tiempo.iloc[6].strftime(\"%Y%m\")\n",
    "    }\n",
    "    data_tiempodw.append(nuevo_tiempo)\n",
    "    \n",
    "#data_tiempodw\n",
    "InsertAPostgres(data_tiempodw, 'dim_tiempo', driverpg)"
   ]
  },
  {
   "cell_type": "code",
   "execution_count": null,
   "id": "bad607ed-c74d-4c09-82f1-0a5a0ab04031",
   "metadata": {},
   "outputs": [],
   "source": [
    "data_factdw = []\n",
    "\n",
    "df_facts =  df_ventas.merge(df_det_venta, on='idventa', how='inner')\n",
    "\n",
    "df_facts = df_facts.merge(df_articulo, on='idarticulo', how='inner')\n",
    "\n",
    "df_facts = df_facts.merge(df_categoria, on='idcategoria', how='inner')\n",
    "\n",
    "\n",
    "for indice, venta in df_facts.iterrows():\n",
    "    nuevo_hecho = {\n",
    "       'num_comprobante': venta.iloc[5],\n",
    "        'date_key': int(venta.iloc[6].strftime(\"%Y%m%d\")),\n",
    "        'idcliente':venta.iloc[1],\n",
    "        'idarticulo':venta.iloc[11],\n",
    "        'idcategoria':venta.iloc[15],\n",
    "        'cantidad':venta.iloc[12],\n",
    "        'precio': venta.iloc[13],\n",
    "        'descuento': venta.iloc[14],\n",
    "        'impuesto': venta.iloc[7],\n",
    "        'fecha': venta.iloc[6]\n",
    "    }\n",
    "    data_factdw.append(nuevo_hecho)\n",
    "    \n",
    "#data_factdw\n",
    "InsertAPostgres(data_factdw, 'fact_ventas', driverpg)"
   ]
  },
  {
   "cell_type": "markdown",
   "id": "1264ebe7-11a9-41c1-8086-65d90e815e73",
   "metadata": {},
   "source": [
    "### Analytics - Respuesta de las preguntas"
   ]
  },
  {
   "cell_type": "code",
   "execution_count": 7,
   "id": "6c37c851-0341-4c9e-95fd-0ac739307619",
   "metadata": {
    "editable": true,
    "slideshow": {
     "slide_type": ""
    },
    "tags": []
   },
   "outputs": [],
   "source": [
    "engine = create_engine(driverpg)\n",
    "consulta_ventas = '''SELECT * FROM fact_ventas;'''\n",
    "ventas = pd.read_sql_query(consulta_ventas, engine)"
   ]
  },
  {
   "cell_type": "code",
   "execution_count": 8,
   "id": "92da122c-7d58-4c48-94d4-7077729183cc",
   "metadata": {},
   "outputs": [],
   "source": [
    "ventas['Total_ventas'] = ventas['cantidad']*ventas['precio']-(((ventas['cantidad']*ventas['precio'])*ventas['impuesto'])/100)"
   ]
  },
  {
   "cell_type": "markdown",
   "id": "29cdab1e-a075-40c3-894f-19949b7c1c48",
   "metadata": {},
   "source": [
    "### 1. Obtener el total de ventas"
   ]
  },
  {
   "cell_type": "code",
   "execution_count": 9,
   "id": "4092cdd4-26a8-45c0-832c-1374425c401c",
   "metadata": {},
   "outputs": [
    {
     "name": "stdout",
     "output_type": "stream",
     "text": [
      "Total de ventas:  153.3083\n"
     ]
    }
   ],
   "source": [
    "print(f'Total de ventas: ',ventas['Total_ventas'].sum())"
   ]
  },
  {
   "cell_type": "markdown",
   "id": "6365a17c-81ac-4e7f-adf8-64293f9a19e7",
   "metadata": {},
   "source": [
    "### 2. Obtener Ventas Totales por categoría"
   ]
  },
  {
   "cell_type": "code",
   "execution_count": 10,
   "id": "f0917c48-bb8d-4903-92b5-c67ed31a0d81",
   "metadata": {},
   "outputs": [],
   "source": [
    "engine = create_engine(driverpg)\n",
    "consulta_categoria = '''SELECT * FROM dim_categoria;'''\n",
    "categoria = pd.read_sql_query(consulta_categoria, engine)\n",
    "\n",
    "total_cat = ventas.merge(categoria, on='idcategoria', how='inner')\n"
   ]
  },
  {
   "cell_type": "code",
   "execution_count": 11,
   "id": "3417c7f3-ca36-47d0-94cf-620c1c2f6884",
   "metadata": {},
   "outputs": [
    {
     "data": {
      "text/html": [
       "<div>\n",
       "<style scoped>\n",
       "    .dataframe tbody tr th:only-of-type {\n",
       "        vertical-align: middle;\n",
       "    }\n",
       "\n",
       "    .dataframe tbody tr th {\n",
       "        vertical-align: top;\n",
       "    }\n",
       "\n",
       "    .dataframe thead th {\n",
       "        text-align: right;\n",
       "    }\n",
       "</style>\n",
       "<table border=\"1\" class=\"dataframe\">\n",
       "  <thead>\n",
       "    <tr style=\"text-align: right;\">\n",
       "      <th></th>\n",
       "      <th>Total_ventas</th>\n",
       "    </tr>\n",
       "    <tr>\n",
       "      <th>nombre</th>\n",
       "      <th></th>\n",
       "    </tr>\n",
       "  </thead>\n",
       "  <tbody>\n",
       "    <tr>\n",
       "      <th>Carnes</th>\n",
       "      <td>42.5634</td>\n",
       "    </tr>\n",
       "    <tr>\n",
       "      <th>Congelados</th>\n",
       "      <td>29.6226</td>\n",
       "    </tr>\n",
       "    <tr>\n",
       "      <th>Frutas y Verduras</th>\n",
       "      <td>36.4692</td>\n",
       "    </tr>\n",
       "    <tr>\n",
       "      <th>Lácteos</th>\n",
       "      <td>22.6850</td>\n",
       "    </tr>\n",
       "    <tr>\n",
       "      <th>Panadería</th>\n",
       "      <td>21.9681</td>\n",
       "    </tr>\n",
       "  </tbody>\n",
       "</table>\n",
       "</div>"
      ],
      "text/plain": [
       "                   Total_ventas\n",
       "nombre                         \n",
       "Carnes                  42.5634\n",
       "Congelados              29.6226\n",
       "Frutas y Verduras       36.4692\n",
       "Lácteos                 22.6850\n",
       "Panadería               21.9681"
      ]
     },
     "execution_count": 11,
     "metadata": {},
     "output_type": "execute_result"
    }
   ],
   "source": [
    "df = total_cat[['nombre','Total_ventas']].groupby(by='nombre').sum()\n",
    "df"
   ]
  },
  {
   "cell_type": "code",
   "execution_count": 12,
   "id": "8891b3a0-9c0b-4ba5-b896-1fbc3c7301b5",
   "metadata": {},
   "outputs": [
    {
     "data": {
      "image/png": "[encoded data removed]",
      "text/plain": [
       "<Figure size 640x480 with 1 Axes>"
      ]
     },
     "metadata": {},
     "output_type": "display_data"
    }
   ],
   "source": [
    "sns.barplot(data=total_cat, x='nombre', y='Total_ventas')\n",
    "plt.show()"
   ]
  },
  {
   "cell_type": "markdown",
   "id": "9c38ec86-4a3d-42e5-b707-3a6c60acf271",
   "metadata": {},
   "source": [
    "### 3. Top 3 de categorias más vendidas"
   ]
  },
  {
   "cell_type": "code",
   "execution_count": 13,
   "id": "ec238ad7-0bdd-43bb-87cc-512b06c42ed7",
   "metadata": {},
   "outputs": [
    {
     "data": {
      "text/html": [
       "<div>\n",
       "<style scoped>\n",
       "    .dataframe tbody tr th:only-of-type {\n",
       "        vertical-align: middle;\n",
       "    }\n",
       "\n",
       "    .dataframe tbody tr th {\n",
       "        vertical-align: top;\n",
       "    }\n",
       "\n",
       "    .dataframe thead th {\n",
       "        text-align: right;\n",
       "    }\n",
       "</style>\n",
       "<table border=\"1\" class=\"dataframe\">\n",
       "  <thead>\n",
       "    <tr style=\"text-align: right;\">\n",
       "      <th></th>\n",
       "      <th>Total_ventas</th>\n",
       "    </tr>\n",
       "    <tr>\n",
       "      <th>nombre</th>\n",
       "      <th></th>\n",
       "    </tr>\n",
       "  </thead>\n",
       "  <tbody>\n",
       "    <tr>\n",
       "      <th>Carnes</th>\n",
       "      <td>42.5634</td>\n",
       "    </tr>\n",
       "    <tr>\n",
       "      <th>Frutas y Verduras</th>\n",
       "      <td>36.4692</td>\n",
       "    </tr>\n",
       "    <tr>\n",
       "      <th>Congelados</th>\n",
       "      <td>29.6226</td>\n",
       "    </tr>\n",
       "  </tbody>\n",
       "</table>\n",
       "</div>"
      ],
      "text/plain": [
       "                   Total_ventas\n",
       "nombre                         \n",
       "Carnes                  42.5634\n",
       "Frutas y Verduras       36.4692\n",
       "Congelados              29.6226"
      ]
     },
     "execution_count": 13,
     "metadata": {},
     "output_type": "execute_result"
    }
   ],
   "source": [
    "top3 = df.sort_values(by='Total_ventas', ascending=False)\n",
    "top3[:3]"
   ]
  },
  {
   "cell_type": "markdown",
   "id": "89f66b2a-684e-4fa7-a37d-dcccf560622b",
   "metadata": {},
   "source": [
    "### 4. Top 5 clientes gold"
   ]
  },
  {
   "cell_type": "code",
   "execution_count": 14,
   "id": "d29d7fff-a102-484b-861d-f62e526f7371",
   "metadata": {},
   "outputs": [],
   "source": [
    "engine = create_engine(driverpg)\n",
    "consulta_persona = '''SELECT * FROM dim_persona;'''\n",
    "cliente = pd.read_sql_query(consulta_persona, engine)\n",
    "\n",
    "total_cte = ventas.merge(cliente, left_on='idcliente', right_on='idpersona', how='inner')"
   ]
  },
  {
   "cell_type": "code",
   "execution_count": 15,
   "id": "4a1a9147-5a97-400f-b504-548c607f7c94",
   "metadata": {},
   "outputs": [
    {
     "data": {
      "text/html": [
       "<div>\n",
       "<style scoped>\n",
       "    .dataframe tbody tr th:only-of-type {\n",
       "        vertical-align: middle;\n",
       "    }\n",
       "\n",
       "    .dataframe tbody tr th {\n",
       "        vertical-align: top;\n",
       "    }\n",
       "\n",
       "    .dataframe thead th {\n",
       "        text-align: right;\n",
       "    }\n",
       "</style>\n",
       "<table border=\"1\" class=\"dataframe\">\n",
       "  <thead>\n",
       "    <tr style=\"text-align: right;\">\n",
       "      <th></th>\n",
       "      <th>Total_ventas</th>\n",
       "    </tr>\n",
       "    <tr>\n",
       "      <th>num_documento</th>\n",
       "      <th></th>\n",
       "    </tr>\n",
       "  </thead>\n",
       "  <tbody>\n",
       "    <tr>\n",
       "      <th>87654321</th>\n",
       "      <td>40.5822</td>\n",
       "    </tr>\n",
       "    <tr>\n",
       "      <th>23456789</th>\n",
       "      <td>32.3769</td>\n",
       "    </tr>\n",
       "    <tr>\n",
       "      <th>56789012</th>\n",
       "      <td>29.3434</td>\n",
       "    </tr>\n",
       "    <tr>\n",
       "      <th>12345678</th>\n",
       "      <td>27.8706</td>\n",
       "    </tr>\n",
       "    <tr>\n",
       "      <th>98765432</th>\n",
       "      <td>23.1352</td>\n",
       "    </tr>\n",
       "  </tbody>\n",
       "</table>\n",
       "</div>"
      ],
      "text/plain": [
       "               Total_ventas\n",
       "num_documento              \n",
       "87654321            40.5822\n",
       "23456789            32.3769\n",
       "56789012            29.3434\n",
       "12345678            27.8706\n",
       "98765432            23.1352"
      ]
     },
     "execution_count": 15,
     "metadata": {},
     "output_type": "execute_result"
    }
   ],
   "source": [
    "df_cte = total_cte[['num_documento','Total_ventas']].groupby(by='num_documento').sum()\n",
    "top = df_cte.sort_values(by='Total_ventas', ascending=False)\n",
    "top"
   ]
  },
  {
   "cell_type": "code",
   "execution_count": 16,
   "id": "cf9fb130-3559-47a1-9470-f1be07f8a047",
   "metadata": {},
   "outputs": [
    {
     "data": {
      "image/png": "[encoded data removed]",
      "text/plain": [
       "<Figure size 640x480 with 1 Axes>"
      ]
     },
     "metadata": {},
     "output_type": "display_data"
    }
   ],
   "source": [
    "sns.barplot(data=total_cte, x='num_documento', y='Total_ventas')\n",
    "plt.show()"
   ]
  },
  {
   "cell_type": "markdown",
   "id": "b96c6b39-abf9-4d7a-b36b-3b026894abff",
   "metadata": {},
   "source": [
    "### 5. Fechas de más venta"
   ]
  },
  {
   "cell_type": "code",
   "execution_count": null,
   "id": "31314a8c-36b4-416e-b2f6-f70e9e9dde13",
   "metadata": {},
   "outputs": [],
   "source": [
    "df_fechas = ventas[['fecha', 'Total_ventas']]"
   ]
  },
  {
   "cell_type": "code",
   "execution_count": 12,
   "id": "a2968b7b-62b2-44ea-a44d-cc78aa2efbc4",
   "metadata": {},
   "outputs": [
    {
     "data": {
      "text/html": [
       "<div>\n",
       "<style scoped>\n",
       "    .dataframe tbody tr th:only-of-type {\n",
       "        vertical-align: middle;\n",
       "    }\n",
       "\n",
       "    .dataframe tbody tr th {\n",
       "        vertical-align: top;\n",
       "    }\n",
       "\n",
       "    .dataframe thead th {\n",
       "        text-align: right;\n",
       "    }\n",
       "</style>\n",
       "<table border=\"1\" class=\"dataframe\">\n",
       "  <thead>\n",
       "    <tr style=\"text-align: right;\">\n",
       "      <th></th>\n",
       "      <th>Total_ventas</th>\n",
       "    </tr>\n",
       "    <tr>\n",
       "      <th>fecha</th>\n",
       "      <th></th>\n",
       "    </tr>\n",
       "  </thead>\n",
       "  <tbody>\n",
       "    <tr>\n",
       "      <th>2024-03-05</th>\n",
       "      <td>22.4000</td>\n",
       "    </tr>\n",
       "    <tr>\n",
       "      <th>2024-03-02</th>\n",
       "      <td>20.3490</td>\n",
       "    </tr>\n",
       "    <tr>\n",
       "      <th>2024-03-07</th>\n",
       "      <td>20.2332</td>\n",
       "    </tr>\n",
       "    <tr>\n",
       "      <th>2024-03-04</th>\n",
       "      <td>18.8518</td>\n",
       "    </tr>\n",
       "    <tr>\n",
       "      <th>2024-03-01</th>\n",
       "      <td>15.9750</td>\n",
       "    </tr>\n",
       "    <tr>\n",
       "      <th>2024-03-08</th>\n",
       "      <td>14.3792</td>\n",
       "    </tr>\n",
       "    <tr>\n",
       "      <th>2024-03-06</th>\n",
       "      <td>11.8956</td>\n",
       "    </tr>\n",
       "    <tr>\n",
       "      <th>2024-03-09</th>\n",
       "      <td>10.4916</td>\n",
       "    </tr>\n",
       "    <tr>\n",
       "      <th>2024-03-10</th>\n",
       "      <td>9.9769</td>\n",
       "    </tr>\n",
       "    <tr>\n",
       "      <th>2024-03-03</th>\n",
       "      <td>8.7560</td>\n",
       "    </tr>\n",
       "  </tbody>\n",
       "</table>\n",
       "</div>"
      ],
      "text/plain": [
       "            Total_ventas\n",
       "fecha                   \n",
       "2024-03-05       22.4000\n",
       "2024-03-02       20.3490\n",
       "2024-03-07       20.2332\n",
       "2024-03-04       18.8518\n",
       "2024-03-01       15.9750\n",
       "2024-03-08       14.3792\n",
       "2024-03-06       11.8956\n",
       "2024-03-09       10.4916\n",
       "2024-03-10        9.9769\n",
       "2024-03-03        8.7560"
      ]
     },
     "execution_count": 12,
     "metadata": {},
     "output_type": "execute_result"
    }
   ],
   "source": [
    "top_fechas = df_fechas.groupby(by='fecha').sum()\n",
    "tp = top_fechas.sort_values(by='Total_ventas', ascending=False)\n",
    "tp"
   ]
  }
 ],
 "metadata": {
  "kernelspec": {
   "display_name": "Python 3 (ipykernel)",
   "language": "python",
   "name": "python3"
  },
  "language_info": {
   "codemirror_mode": {
    "name": "ipython",
    "version": 3
   },
   "file_extension": ".py",
   "mimetype": "text/x-python",
   "name": "python",
   "nbconvert_exporter": "python",
   "pygments_lexer": "ipython3",
   "version": "3.11.7"
  }
 },
 "nbformat": 4,
 "nbformat_minor": 5
}
